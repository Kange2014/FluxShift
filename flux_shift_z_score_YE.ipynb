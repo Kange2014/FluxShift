{
 "cells": [
  {
   "cell_type": "code",
   "execution_count": 1,
   "metadata": {
    "collapsed": false
   },
   "outputs": [
    {
     "name": "stdout",
     "output_type": "stream",
     "text": [
      "I'm using scipy version:\n"
     ]
    },
    {
     "data": {
      "text/plain": [
       "'0.13.3'"
      ]
     },
     "execution_count": 1,
     "metadata": {},
     "output_type": "execute_result"
    }
   ],
   "source": [
    "import sys, os\n",
    "\n",
    "import matplotlib  \n",
    "matplotlib.use('Agg')  \n",
    "from matplotlib import pyplot as plt\n",
    "from matplotlib.pyplot import savefig\n",
    "\n",
    "%matplotlib inline\n",
    "\n",
    "import cobra\n",
    "import cobra.io\n",
    "from cobra import Model, Reaction, Metabolite\n",
    "from scipy.io import loadmat, savemat\n",
    "\n",
    "# Panda python module for dataframe and data storage/manipulation\n",
    "import pandas as pd\n",
    "pd.set_option('mode.use_inf_as_null',True)\n",
    "pd.set_option('display.max_rows', 100)\n",
    "pd.set_option('display.max_columns', 999)\n",
    "pd.set_option('precision', 3)\n",
    "\n",
    "import seaborn as sns\n",
    "sns.set(style=\"white\")\n",
    "c1, c2, c3, c4, c5, c6, c7, c8, c9, c10 = sns.color_palette(\"Set2\", 10)\n",
    "b1, b2, b3, b4, b5, b6 = sns.color_palette(\"Blues\")\n",
    "\n",
    "from contextlib import contextmanager\n",
    "\n",
    "@contextmanager\n",
    "def suppress_stdout():\n",
    "    with open(os.devnull, \"w\") as devnull:\n",
    "        old_stdout = sys.stdout\n",
    "        sys.stdout = devnull\n",
    "        try:  \n",
    "            yield\n",
    "        finally:\n",
    "            sys.stdout = old_stdout\n",
    "\n",
    "import numpy as np\n",
    "from copy import deepcopy\n",
    "import scipy.io\n",
    "import scipy.sparse as sparse\n",
    "import random as rand\n",
    "\n",
    "print \"I'm using scipy version:\" \n",
    "scipy.__version__"
   ]
  },
  {
   "cell_type": "code",
   "execution_count": 146,
   "metadata": {
    "collapsed": true
   },
   "outputs": [],
   "source": [
    "#### self-defined functions to find fluxes shifted between different sampling distributions\n",
    "#from fluxShift import remove_unwanted_rxns,prune_mcmc_fluxes,get_mean_std_pvalue,plot_rxn_shifts_all_strains,gen_rxn_to_subsystem\n",
    "#from fluxShift import gen_rxn_to_genes,classify_flux_change,find_flux_shifts,get_zscore,get_met_zscore\n",
    "\n",
    "import fluxShift\n",
    "reload(fluxShift)\n",
    "from fluxShift import remove_unwanted_rxns,prune_mcmc_fluxes,get_mean_std_pvalue,plot_rxn_shifts_all_strains,gen_rxn_to_subsystem\n",
    "from fluxShift import gen_rxn_to_genes,classify_flux_change,find_flux_shifts,get_zscore,get_met_zscore\n"
   ]
  },
  {
   "cell_type": "code",
   "execution_count": 4,
   "metadata": {
    "collapsed": false
   },
   "outputs": [],
   "source": [
    "model = cobra.io.load_json_model(\"HNC47.json\")\n",
    "react_id = \"RecombinantProtein\"\n",
    "reaction = Reaction(react_id)\n",
    "reaction.name = react_id\n",
    "reaction.subsystem = \"Recombinant protein synthesis\"\n",
    "reaction.lower_bound = 0\n",
    "reaction.upper_bound = 1000\n",
    "reaction.objective_coefficient = 0\n",
    "\n",
    "metabolites = ['ala__L_c','cys__L_c','asp__L_c','glu__L_c','phe__L_c','gly_c','his__L_c','ile__L_c','lys__L_c','leu__L_c','met__L_c','asn__L_c','pro__L_c','gln__L_c','arg__L_c','ser__L_c','thr__L_c','val__L_c','trp__L_c','tyr__L_c','atp_c','adp_c','pi_c']\n",
    "coefficient1 = [-6,-6,-9,-17,-9,-11,-5,-4,-17,-17,-3,-11,-19,-11,-6,-24,-14,-23,-4,-8,-4.306*224,964.544,965.544]\n",
    "coefficient2 = [-0.513689,-0.09158,-0.241055,-0.26316,-0.185265,-0.612638,-0.094738,-0.290529,-0.343161,-0.450531,-0.153686,-0.241055,-0.221055,-0.26316,-0.295792,-0.215792,-0.253687,-0.423162,-0.056843,-0.137896,-23.03053,23.03053,23.03053]\n",
    "for\n"
   ]
  },
  {
   "cell_type": "code",
   "execution_count": 5,
   "metadata": {
    "collapsed": false
   },
   "outputs": [
    {
     "name": "stdout",
     "output_type": "stream",
     "text": [
      "2786\n"
     ]
    }
   ],
   "source": [
    "print len(model.reactions)"
   ]
  },
  {
   "cell_type": "code",
   "execution_count": 6,
   "metadata": {
    "collapsed": false
   },
   "outputs": [
    {
     "name": "stderr",
     "output_type": "stream",
     "text": [
      "cobra/core/Model.py:306 \u001b[1;31mUserWarning\u001b[0m: need to pass in a list\n"
     ]
    }
   ],
   "source": [
    "m = model.copy()\n",
    "m.reactions.BIOMASS_Ec_iJO1366_core_53p95M.objective_coefficient = 0\n",
    "m.reactions.EX_glc__D_e.lower_bound = -0.5\n",
    "\n",
    "# Find Loops/zero flux reactions in M model\n",
    "loops = []\n",
    "read_to_struct =[]\n",
    "for r in m.reactions:\n",
    "    r.objective_coefficient = 1.0  \n",
    "    m.optimize()\n",
    "    if m.solution.f > 100:\n",
    "        read_to_struct.append({'reaction':r.id, 'flux':m.solution.f})\n",
    "        loops.append(r.id)\n",
    "    \n",
    "    r.objective_coefficient = 0\n",
    "\n",
    "DF_erroneous_fluxes = pd.DataFrame(read_to_struct)\n",
    "\n",
    "#  search for zero flux reactions\n",
    "\n",
    "opt_fract = 0.9\n",
    "\n",
    "from cobra.flux_analysis.variability import flux_variability_analysis\n",
    "flux_var = flux_variability_analysis(m, fraction_of_optimum=opt_fract)\n",
    "\n",
    "removed = []\n",
    "read_to_struct = []\n",
    "\n",
    "for r in m.reactions:\n",
    "    # 1 fix numerical errors\n",
    "    if flux_var[r.id]['minimum'] > flux_var[r.id]['maximum']:\n",
    "        min_val = np.round(flux_var[r.id]['minimum'],9)\n",
    "        max_val = np.round(flux_var[r.id]['maximum'],9)\n",
    "        flux_var[r.id]['minimum'] = max_val\n",
    "        flux_var[r.id]['maximum'] = min_val\n",
    "        \n",
    "    # 2 constrain bounds to FVA results\n",
    "    r.lower_bound = flux_var[r.id]['minimum']\n",
    "    r.upper_bound = flux_var[r.id]['maximum']\n",
    "    \n",
    "    # 3 remove reactions that cannot carry flux\n",
    "    if r.lower_bound==0 and r.upper_bound==0:\n",
    "        m.reactions.BIOMASS_Ec_iJO1366_core_53p95M.objective_coefficient = 1\n",
    "        m.optimize()\n",
    "        \n",
    "        if m.solution.f == None:\n",
    "            read_to_struct.append({'reaction':r.id, 'solution':m.solution.f, 'removed?':'no'})\n",
    "        else:\n",
    "            removed.append(r.id)\n",
    "            m.remove_reactions(r)\n",
    "            read_to_struct.append({'reaction':r.id, 'solution':m.solution.f, 'removed?':'yes'})\n",
    "            \n",
    "        m.reactions.BIOMASS_Ec_iJO1366_core_53p95M.objective_coefficient = 0   \n",
    "        \n",
    "DF_zero_flux_reactions = pd.DataFrame(read_to_struct)\n"
   ]
  },
  {
   "cell_type": "code",
   "execution_count": 7,
   "metadata": {
    "collapsed": false
   },
   "outputs": [
    {
     "name": "stdout",
     "output_type": "stream",
     "text": [
      "number of total reactions: 750\n"
     ]
    }
   ],
   "source": [
    "## Remove reactions from sampling dataframes\n",
    "reactions_to_remove = DF_zero_flux_reactions.reaction[DF_zero_flux_reactions['removed?']=='yes'].tolist() + DF_erroneous_fluxes.reaction.tolist()\n",
    "print \"number of total reactions:\", len(DF_zero_flux_reactions[DF_zero_flux_reactions['removed?']=='yes'])+len(DF_erroneous_fluxes.reaction)\n"
   ]
  },
  {
   "cell_type": "code",
   "execution_count": 102,
   "metadata": {
    "collapsed": true
   },
   "outputs": [],
   "source": [
    "# load R sybil MCMC sampling trajectories into ipython\n",
    "from collections import defaultdict\n",
    "\n",
    "def mcmc_tab2pandas(strain):\n",
    "\n",
    "    file1 = '25glucose+10YE/sampling_%s_p1.tab'%strain\n",
    "    file2 = '25glucose+10YE/sampling_%s_p2.tab'%strain\n",
    "    file2 = '25glucose+10YE/sampling_%s_p3.tab'%strain\n",
    "    \n",
    "    flux_dist1 = np.loadtxt(file1,delimiter=\"\\t\",skiprows=1)\n",
    "    flux_dist2 = np.loadtxt(file2,delimiter=\"\\t\",skiprows=1)\n",
    "    flux_dist3 = np.loadtxt(file2,delimiter=\"\\t\",skiprows=1)\n",
    "\n",
    "    print \"Sample size for %s phase I:\"%strain, flux_dist1.shape\n",
    "    print \"Sample size for %s phase II:\"%strain, flux_dist2.shape\n",
    "    print \"Sample size for %s phase III:\"%strain, flux_dist3.shape\n",
    "    \n",
    "    # now convert flux_dist array into pandas df with reaction field\n",
    "    \n",
    "    model_rxns=[]\n",
    "\n",
    "    samples1 = defaultdict(list)\n",
    "    samples2 = defaultdict(list)\n",
    "    samples3 = defaultdict(list)\n",
    "    \n",
    "    tmp_array = []\n",
    "    for react in model.reactions:\n",
    "        tmp_array.append(react.id)\n",
    "\n",
    "    count = 0\n",
    "    for i in tmp_array:\n",
    "        rxn_name = str(i)\n",
    "        model_rxns.append(str(i))\n",
    "    \n",
    "        samples1[rxn_name] = flux_dist1[count,:]\n",
    "        samples2[rxn_name] = flux_dist2[count,:]\n",
    "        samples3[rxn_name] = flux_dist3[count,:]\n",
    "    \n",
    "        count +=1\n",
    "\n",
    "    # convert to dataframes    \n",
    "    df_samples1 = pd.DataFrame(samples1)\n",
    "    df_samples2 = pd.DataFrame(samples2)\n",
    "    df_samples3 = pd.DataFrame(samples3)  \n",
    "\n",
    "    print \"number of reactions in df:\", len(model_rxns)\n",
    "\n",
    "    return (df_samples1,df_samples2,df_samples3)\n",
    "\n",
    "################################################################################\n"
   ]
  },
  {
   "cell_type": "code",
   "execution_count": 103,
   "metadata": {
    "collapsed": true
   },
   "outputs": [],
   "source": [
    "mcmc_reduced_dict_p1 = {}\n",
    "mcmc_reduced_dict_p2 = {}\n",
    "mcmc_reduced_dict_p3 = {}\n",
    "\n",
    "mcmc_p1_dict = {}\n",
    "mcmc_p2_dict = {}\n",
    "mcmc_p3_dict = {}"
   ]
  },
  {
   "cell_type": "code",
   "execution_count": 104,
   "metadata": {
    "collapsed": true
   },
   "outputs": [],
   "source": [
    "mylegend = ['50%glc','25%glc_10%YE']"
   ]
  },
  {
   "cell_type": "code",
   "execution_count": 107,
   "metadata": {
    "collapsed": false
   },
   "outputs": [
    {
     "name": "stdout",
     "output_type": "stream",
     "text": [
      " Sample size for 50%glc phase I: (2786, 5000)\n",
      "Sample size for 50%glc phase II: (2786, 5000)\n",
      "Sample size for 50%glc phase III: (2786, 5000)\n",
      "number of reactions in df: 2786\n",
      "Strain 50%glc (5000, 2036)\n",
      "Strain 50%glc (5000, 2036)\n",
      "Strain 50%glc (5000, 2036)\n",
      "Sample size for 25%glc_10%YE phase I: (2786, 5000)\n",
      "Sample size for 25%glc_10%YE phase II: (2786, 5000)\n",
      "Sample size for 25%glc_10%YE phase III: (2786, 5000)\n",
      "number of reactions in df: 2786\n",
      "Strain 25%glc_10%YE (5000, 2036)\n",
      "Strain 25%glc_10%YE (5000, 2036)\n",
      "Strain 25%glc_10%YE (5000, 2036)\n"
     ]
    }
   ],
   "source": [
    "for strain in mylegend:\n",
    "    (mcmc_p1_dict[strain],mcmc_p2_dict[strain],mcmc_p3_dict[strain]) = mcmc_tab2pandas(strain)\n",
    "    df_reduced_p1 = remove_unwanted_rxns(mcmc_p1_dict[strain],reactions_to_remove)\n",
    "    df_reduced_p2 = remove_unwanted_rxns(mcmc_p2_dict[strain],reactions_to_remove)\n",
    "    df_reduced_p3 = remove_unwanted_rxns(mcmc_p3_dict[strain],reactions_to_remove)\n",
    "    \n",
    "    mcmc_reduced_dict_p1[strain] = df_reduced_p1\n",
    "    mcmc_reduced_dict_p2[strain] = df_reduced_p2\n",
    "    mcmc_reduced_dict_p3[strain] = df_reduced_p3\n",
    "    \n",
    "    print \"Strain\", strain, mcmc_reduced_dict_p1[strain].shape\n",
    "    print \"Strain\", strain, mcmc_reduced_dict_p2[strain].shape\n",
    "    print \"Strain\", strain, mcmc_reduced_dict_p3[strain].shape\n"
   ]
  },
  {
   "cell_type": "code",
   "execution_count": 108,
   "metadata": {
    "collapsed": false
   },
   "outputs": [
    {
     "data": {
      "image/png": "[encoded data removed]",
      "text/plain": [
       "<matplotlib.figure.Figure at 0x7f6564062450>"
      ]
     },
     "metadata": {},
     "output_type": "display_data"
    }
   ],
   "source": [
    "react = 'CS'\n",
    "\n",
    "mcmc_reduced_dict_p1['50%glc'][react].plot(kind='density')\n",
    "mcmc_reduced_dict_p1['25%glc_10%YE'][react].plot(kind='density')\n",
    "\n",
    "savefig('CS.jpg')"
   ]
  },
  {
   "cell_type": "code",
   "execution_count": 109,
   "metadata": {
    "collapsed": false
   },
   "outputs": [
    {
     "name": "stdout",
     "output_type": "stream",
     "text": [
      "shape before pruning 25%glc_10%YE: (5000, 2036)\n",
      "shape after pruning 25%glc_10%YE: (5000, 2006)\n",
      "shape before pruning 25%glc_10%YE: (5000, 2036)\n",
      "shape after pruning 25%glc_10%YE: (5000, 2006)\n",
      "shape before pruning 25%glc_10%YE: (5000, 2036)\n",
      "shape after pruning 25%glc_10%YE: (5000, 2006)\n",
      "shape before pruning 50%glc: (5000, 2036)\n",
      "shape after pruning 50%glc: (5000, 2008)\n",
      "shape before pruning 50%glc: (5000, 2036)\n",
      "shape after pruning 50%glc: (5000, 2008)\n",
      "shape before pruning 50%glc: (5000, 2036)\n",
      "shape after pruning 50%glc: (5000, 2008)\n"
     ]
    }
   ],
   "source": [
    "#########################################################\n",
    "\n",
    "# Perform further pruning of flux distributions\n",
    "# Note: none of the remaining reactions have a significant amount of fluxes above the threshold:\n",
    "#       No reactions have fluxes greater than 10 x glc uptake for > 99% of flux states\n",
    "#       No reactions have fluxes greater than 20 x glc uptake\n",
    "\n",
    "df_rxns_removed_p1 = {}\n",
    "df_rxns_removed_p2 = {}\n",
    "df_rxns_removed_p3 = {}\n",
    "\n",
    "df_rxns_high_flux_remain_p1 = {}\n",
    "df_rxns_high_flux_remain_p2 = {}\n",
    "df_rxns_high_flux_remain_p3 = {}\n",
    "\n",
    "for strain in mcmc_reduced_dict_p1.keys():\n",
    "\n",
    "    print \"shape before pruning %s:\"%strain, mcmc_reduced_dict_p1[strain].shape\n",
    "    [mcmc_reduced_dict_p1[strain], df_rxns_removed_p1[strain], df_rxns_high_flux_remain_p1[strain]] = prune_mcmc_fluxes(mcmc_reduced_dict_p1[strain],m)\n",
    "    print \"shape after pruning %s:\"%strain, mcmc_reduced_dict_p1[strain].shape\n",
    "    \n",
    "    print \"shape before pruning %s:\"%strain, mcmc_reduced_dict_p2[strain].shape\n",
    "    [mcmc_reduced_dict_p2[strain], df_rxns_removed_p2[strain], df_rxns_high_flux_remain_p2[strain]] = prune_mcmc_fluxes(mcmc_reduced_dict_p2[strain],m)\n",
    "    print \"shape after pruning %s:\"%strain, mcmc_reduced_dict_p2[strain].shape\n",
    "    \n",
    "    print \"shape before pruning %s:\"%strain, mcmc_reduced_dict_p3[strain].shape\n",
    "    [mcmc_reduced_dict_p3[strain], df_rxns_removed_p3[strain], df_rxns_high_flux_remain_p3[strain]] = prune_mcmc_fluxes(mcmc_reduced_dict_p3[strain],m)\n",
    "    print \"shape after pruning %s:\"%strain, mcmc_reduced_dict_p3[strain].shape\n"
   ]
  },
  {
   "cell_type": "code",
   "execution_count": 110,
   "metadata": {
    "collapsed": false
   },
   "outputs": [
    {
     "name": "stdout",
     "output_type": "stream",
     "text": [
      "2HH24DDH1_copy2 0\n",
      "ACKr 0\n",
      "ACt2rpp 84\n",
      "ALAt2pp_copy2 0\n",
      "ASPt2pp_copy2 167\n",
      "CAt6pp 0\n",
      "CRNt2rpp 0\n",
      "CYTDt2pp_copy2 0\n",
      "EX_fe2_e 0\n",
      "EX_h_e 0\n",
      "FE3tex 0\n",
      "GLUt2rpp 0\n",
      "GLYBt2pp_copy2 0\n",
      "GLYCLTt2rpp 748\n",
      "GLYt2pp_copy2 0\n",
      "H2Otex 0\n",
      "HPYRI 0\n",
      "ICHORS_copy1 0\n",
      "INSTt2 0\n",
      "PPKr 0\n",
      "PPM 0\n",
      "PRASCSi_copy2 0\n",
      "PROt2rpp 958\n",
      "PRPPS 0\n",
      "SERt2rpp 0\n",
      "SUCOAS 0\n",
      "THRt2rpp 0\n",
      "TRSARr 0\n",
      "URAt2pp_copy2 0\n",
      "URIt2pp_copy2 0\n",
      "2HH24DDH1_copy2 999.997897782\n",
      "ACKr 776.63020809\n",
      "ACt2rpp 316.405052669\n",
      "ALAt2pp_copy2 999.986077899\n",
      "ASPt2pp_copy2 410.803849551\n",
      "CAt6pp 810.761521373\n",
      "CRNt2rpp 999.676382219\n",
      "CYTDt2pp_copy2 984.194563707\n",
      "EX_fe2_e 32.9549305282\n",
      "EX_h_e 32.0226647822\n",
      "FE3tex 33.0081638515\n",
      "GLUt2rpp 915.306859367\n",
      "GLYBt2pp_copy2 769.49210812\n",
      "GLYCLTt2rpp 155.438531443\n",
      "GLYt2pp_copy2 999.999103055\n",
      "H2Otex 22.5484933912\n",
      "HPYRI 928.383962881\n",
      "ICHORS_copy1 522.947413677\n",
      "INSTt2 963.021873776\n",
      "PPKr 962.363422461\n",
      "PPM 492.635942735\n",
      "PRASCSi_copy2 999.960707123\n",
      "PROt2rpp 294.274841626\n",
      "PRPPS 492.4490416\n",
      "SERt2rpp 658.102383534\n",
      "SUCOAS 952.800009576\n",
      "THRt2rpp 402.751177474\n",
      "TRSARr 928.380723903\n",
      "URAt2pp_copy2 740.989287185\n",
      "URIt2pp_copy2 984.420466813\n"
     ]
    }
   ],
   "source": [
    "# QC/QA of pruning flux states\n",
    "\n",
    "df = df_rxns_removed_p1['25%glc_10%YE']\n",
    "\n",
    "for i in df.index:\n",
    "    if df['percent of states with flux < 10'][i] < 4900:\n",
    "        print df['react_id'][i], df['percent of states with flux < 10'][i]\n",
    "\n",
    "for i in df.index:\n",
    "    if df['percent of states with flux < 10'][i] < 5000:  \n",
    "        if df['max abs flux'][i] > 20:\n",
    "            print df['react_id'][i],df['max abs flux'][i]"
   ]
  },
  {
   "cell_type": "code",
   "execution_count": 111,
   "metadata": {
    "collapsed": false
   },
   "outputs": [
    {
     "name": "stdout",
     "output_type": "stream",
     "text": [
      "strain: 25%glc_10%YE\n"
     ]
    }
   ],
   "source": [
    "## get means and std's for two states and their corresponding pval for significant overlap\n",
    "# this box runs through two phases and gets the changes between phase1- phase2 for a given culture conditions\n",
    "# or, between culture conditions1 - culture conditions2 for a given phase\n",
    "#**** note, check that reduced and full sets have same distributions\n",
    "\n",
    "flux_stats_dict_p1 = {}\n",
    "flux_stats_dict_p2 = {}\n",
    "flux_stats_dict_p3 = {}\n",
    "\n",
    "for strain in mcmc_reduced_dict_p1.keys():\n",
    "        if strain == '50%glc':\n",
    "            continue\n",
    "\n",
    "        print \"strain:\", strain\n",
    "        \n",
    "        flux_stats_dict_p1[strain] = get_mean_std_pvalue(mcmc_reduced_dict_p1['50%glc'],mcmc_reduced_dict_p1[strain], m, 1, 2)\n",
    "        flux_stats_dict_p2[strain] = get_mean_std_pvalue(mcmc_reduced_dict_p2['50%glc'],mcmc_reduced_dict_p2[strain], m, 1, 2)\n",
    "        flux_stats_dict_p3[strain] = get_mean_std_pvalue(mcmc_reduced_dict_p3['50%glc'],mcmc_reduced_dict_p3[strain], m, 1, 2)"
   ]
  },
  {
   "cell_type": "code",
   "execution_count": 112,
   "metadata": {
    "collapsed": false,
    "scrolled": true
   },
   "outputs": [
    {
     "data": {
      "text/html": [
       "<div style=\"max-height:1000px;max-width:1500px;overflow:auto;\">\n",
       "<table border=\"1\" class=\"dataframe\">\n",
       "  <thead>\n",
       "    <tr style=\"text-align: right;\">\n",
       "      <th></th>\n",
       "      <th>p1mean</th>\n",
       "      <th>p1median</th>\n",
       "      <th>p1std</th>\n",
       "      <th>p2mean</th>\n",
       "      <th>p2median</th>\n",
       "      <th>p2std</th>\n",
       "      <th>pval</th>\n",
       "      <th>reaction</th>\n",
       "    </tr>\n",
       "  </thead>\n",
       "  <tbody>\n",
       "    <tr>\n",
       "      <th>0</th>\n",
       "      <td> 2.80e-05</td>\n",
       "      <td> 2.80e-05</td>\n",
       "      <td> 6.06e-07</td>\n",
       "      <td> 2.14e-05</td>\n",
       "      <td> 2.14e-05</td>\n",
       "      <td> 5.44e-07</td>\n",
       "      <td> 4.00e-04</td>\n",
       "      <td> DM_4crsol_c</td>\n",
       "    </tr>\n",
       "    <tr>\n",
       "      <th>1</th>\n",
       "      <td> 3.01e-04</td>\n",
       "      <td> 2.37e-04</td>\n",
       "      <td> 2.38e-04</td>\n",
       "      <td> 1.29e-04</td>\n",
       "      <td> 1.03e-04</td>\n",
       "      <td> 9.07e-05</td>\n",
       "      <td> 4.97e-01</td>\n",
       "      <td>  DM_5drib_c</td>\n",
       "    </tr>\n",
       "    <tr>\n",
       "      <th>2</th>\n",
       "      <td> 2.51e-07</td>\n",
       "      <td> 2.51e-07</td>\n",
       "      <td> 5.43e-09</td>\n",
       "      <td> 1.92e-07</td>\n",
       "      <td> 1.92e-07</td>\n",
       "      <td> 4.88e-09</td>\n",
       "      <td> 4.00e-04</td>\n",
       "      <td>   DM_amob_c</td>\n",
       "    </tr>\n",
       "  </tbody>\n",
       "</table>\n",
       "<p>3 rows × 8 columns</p>\n",
       "</div>"
      ],
      "text/plain": [
       "     p1mean  p1median     p1std    p2mean  p2median     p2std      pval  \\\n",
       "0  2.80e-05  2.80e-05  6.06e-07  2.14e-05  2.14e-05  5.44e-07  4.00e-04   \n",
       "1  3.01e-04  2.37e-04  2.38e-04  1.29e-04  1.03e-04  9.07e-05  4.97e-01   \n",
       "2  2.51e-07  2.51e-07  5.43e-09  1.92e-07  1.92e-07  4.88e-09  4.00e-04   \n",
       "\n",
       "      reaction  \n",
       "0  DM_4crsol_c  \n",
       "1   DM_5drib_c  \n",
       "2    DM_amob_c  \n",
       "\n",
       "[3 rows x 8 columns]"
      ]
     },
     "execution_count": 112,
     "metadata": {},
     "output_type": "execute_result"
    }
   ],
   "source": [
    "# Note: here we have the mean, median and std for the flux distributions in phases 1 and 2.\n",
    "# The pval indicates whether the sample difference between these two states is significant.\n",
    "flux_stats_dict_p1['25%glc_10%YE'][0:3]"
   ]
  },
  {
   "cell_type": "code",
   "execution_count": 113,
   "metadata": {
    "collapsed": false
   },
   "outputs": [
    {
     "name": "stdout",
     "output_type": "stream",
     "text": [
      "strain: 25%glc_10%YE\n",
      "no. rxns before filtering out exchange rxns: 2134\n",
      "no. rxns after filtering out exchange rxns: 1663\n",
      "\n",
      "flux change counts:\n",
      "dont shift 1618\n",
      "do shift 32 \n",
      "\n",
      "strain: 25%glc_10%YE\n",
      "no. rxns before filtering out exchange rxns: 2134\n",
      "no. rxns after filtering out exchange rxns: 1663\n",
      "\n",
      "flux change counts:\n",
      "dont shift 1628\n",
      "do shift 23 \n",
      "\n",
      "strain: 25%glc_10%YE\n",
      "no. rxns before filtering out exchange rxns: 2134\n",
      "no. rxns after filtering out exchange rxns: 1663\n",
      "\n",
      "flux change counts:\n",
      "dont shift 1628\n",
      "do shift 23 \n",
      "\n"
     ]
    }
   ],
   "source": [
    "# Classify Flux shifts\n",
    "\n",
    "flux_shift_stats_dict_p1 ={}\n",
    "m_significant_shifts_dict_p1 ={}\n",
    "\n",
    "flux_shift_stats_dict_p2 ={}\n",
    "m_significant_shifts_dict_p2 ={}\n",
    "\n",
    "flux_shift_stats_dict_p3 ={}\n",
    "m_significant_shifts_dict_p3 ={}\n",
    "\n",
    "for strain in flux_stats_dict_p1.keys():\n",
    "    print \"strain:\", strain\n",
    "    df = flux_stats_dict_p1[strain]\n",
    "    [df,same,change]= find_flux_shifts(df,m,1,2)\n",
    "    flux_shift_stats_dict_p1[strain] = df\n",
    "    m_significant_shifts_dict_p1[strain] = change\n",
    "\n",
    "for strain in flux_stats_dict_p2.keys():\n",
    "    print \"strain:\", strain\n",
    "    df = flux_stats_dict_p2[strain]\n",
    "    [df,same,change]= find_flux_shifts(df,m,1,2)\n",
    "    flux_shift_stats_dict_p2[strain] = df\n",
    "    m_significant_shifts_dict_p2[strain] = change\n",
    "\n",
    "for strain in flux_stats_dict_p3.keys():\n",
    "    print \"strain:\", strain\n",
    "    df = flux_stats_dict_p3[strain]\n",
    "    [df,same,change]= find_flux_shifts(df,m,1,2)\n",
    "    flux_shift_stats_dict_p3[strain] = df\n",
    "    m_significant_shifts_dict_p3[strain] = change"
   ]
  },
  {
   "cell_type": "code",
   "execution_count": 115,
   "metadata": {
    "collapsed": false
   },
   "outputs": [
    {
     "name": "stdout",
     "output_type": "stream",
     "text": [
      "['ACONTa' 'ACONTb' 'AKGDH' 'ASPTA' 'CS' 'CYTK1' 'DRPA' 'ENO' 'FUM' 'G3PD2'\n",
      " 'G6PDH2r' 'GAPD' 'GK1' 'GLNS' 'GLUDy' 'GND' 'HCO3E' 'ICDHyr' 'MDH' 'NDPK3'\n",
      " 'PDH' 'PGCD' 'PGK' 'PGM' 'PPC' 'PPM2' 'PSERT' 'PSP_L' 'RPI' 'TPI' 'XYLI2'\n",
      " 'PGL']\n"
     ]
    },
    {
     "data": {
      "text/plain": [
       "Citric Acid Cycle                   7\n",
       "Glycolysis/Gluconeogenesis          6\n",
       "Pentose Phosphate Pathway           4\n",
       "Alternate Carbon Metabolism         4\n",
       "Nucleotide Salvage Pathway          3\n",
       "Glycine and Serine Metabolism       3\n",
       "Glutamate Metabolism                2\n",
       "Anaplerotic Reactions               1\n",
       "Alanine and Aspartate Metabolism    1\n",
       "Unassigned                          1\n",
       "dtype: int64"
      ]
     },
     "execution_count": 115,
     "metadata": {},
     "output_type": "execute_result"
    }
   ],
   "source": [
    "print m_significant_shifts_dict_p1['25%glc_10%YE'].reaction.values\n",
    "\n",
    "m_significant_shifts_dict_p1['25%glc_10%YE'].subsystem.value_counts()"
   ]
  },
  {
   "cell_type": "code",
   "execution_count": 161,
   "metadata": {
    "collapsed": false
   },
   "outputs": [
    {
     "name": "stdout",
     "output_type": "stream",
     "text": [
      "['ACONTa' 'ACONTb' 'AKGDH' 'ASPTA' 'ATPM' 'CS' 'CYTK1' 'DHAPT' 'ENO' 'F6PA'\n",
      " 'FRD3' 'FUM' 'GAPD' 'GLUDy' 'ICDHyr' 'MDH' 'NDPK3' 'PDH' 'PGI' 'PGK' 'PGM'\n",
      " 'SUCDi' 'TPI']\n"
     ]
    },
    {
     "data": {
      "text/plain": [
       "Glycolysis/Gluconeogenesis          8\n",
       "Citric Acid Cycle                   8\n",
       "Nucleotide Salvage Pathway          2\n",
       "Glutamate Metabolism                1\n",
       "Alternate Carbon Metabolism         1\n",
       "Alanine and Aspartate Metabolism    1\n",
       "Oxidative Phosphorylation           1\n",
       "Unassigned                          1\n",
       "dtype: int64"
      ]
     },
     "execution_count": 161,
     "metadata": {},
     "output_type": "execute_result"
    }
   ],
   "source": [
    "print m_significant_shifts_dict_p2['25%glc_10%YE'].reaction.values\n",
    "\n",
    "m_significant_shifts_dict_p2['25%glc_10%YE'].subsystem.value_counts()"
   ]
  },
  {
   "cell_type": "code",
   "execution_count": 162,
   "metadata": {
    "collapsed": false
   },
   "outputs": [
    {
     "name": "stdout",
     "output_type": "stream",
     "text": [
      "['ACONTa' 'ACONTb' 'AKGDH' 'ASPTA' 'ATPM' 'CS' 'CYTK1' 'DHAPT' 'ENO' 'F6PA'\n",
      " 'FRD3' 'FUM' 'GAPD' 'GLUDy' 'ICDHyr' 'MDH' 'NDPK3' 'PDH' 'PGI' 'PGK' 'PGM'\n",
      " 'SUCDi' 'TPI']\n"
     ]
    },
    {
     "data": {
      "text/plain": [
       "Glycolysis/Gluconeogenesis          8\n",
       "Citric Acid Cycle                   8\n",
       "Nucleotide Salvage Pathway          2\n",
       "Glutamate Metabolism                1\n",
       "Alternate Carbon Metabolism         1\n",
       "Alanine and Aspartate Metabolism    1\n",
       "Oxidative Phosphorylation           1\n",
       "Unassigned                          1\n",
       "dtype: int64"
      ]
     },
     "execution_count": 162,
     "metadata": {},
     "output_type": "execute_result"
    }
   ],
   "source": [
    "print m_significant_shifts_dict_p3['25%glc_10%YE'].reaction.values\n",
    "\n",
    "m_significant_shifts_dict_p3['25%glc_10%YE'].subsystem.value_counts()"
   ]
  },
  {
   "cell_type": "code",
   "execution_count": 116,
   "metadata": {
    "collapsed": false
   },
   "outputs": [
    {
     "name": "stdout",
     "output_type": "stream",
     "text": [
      "***PROGRESS: 2133/2134 reactions***\n",
      "\n"
     ]
    }
   ],
   "source": [
    "# Compute Z score per reaction difference\n",
    "\n",
    "DF_reaction_zscore_p1 = {}\n",
    "DF_reaction_zscore_p2 = {}\n",
    "DF_reaction_zscore_p3 = {}\n",
    "\n",
    "for strain in mcmc_reduced_dict_p1.keys():\n",
    "        if strain == '50%glc':\n",
    "            continue\n",
    "        \n",
    "        print \"strain:\", strain\n",
    "        \n",
    "        DF_reaction_zscore_p1[strain] = get_zscore(mcmc_reduced_dict_p1['50%glc'],mcmc_reduced_dict_p1[strain],m,flux_shift_stats_dict_p1,strain)\n",
    "        DF_reaction_zscore_p2[strain] = get_zscore(mcmc_reduced_dict_p2['50%glc'],mcmc_reduced_dict_p2[strain],m,flux_shift_stats_dict_p2,strain)\n",
    "        DF_reaction_zscore_p3[strain] = get_zscore(mcmc_reduced_dict_p3['50%glc'],mcmc_reduced_dict_p3[strain],m,flux_shift_stats_dict_p3,strain)\n",
    "        "
   ]
  },
  {
   "cell_type": "code",
   "execution_count": 117,
   "metadata": {
    "collapsed": false
   },
   "outputs": [
    {
     "data": {
      "text/html": [
       "<div style=\"max-height:1000px;max-width:1500px;overflow:auto;\">\n",
       "<table border=\"1\" class=\"dataframe\">\n",
       "  <thead>\n",
       "    <tr style=\"text-align: right;\">\n",
       "      <th></th>\n",
       "      <th>reaction</th>\n",
       "      <th>z_score</th>\n",
       "    </tr>\n",
       "  </thead>\n",
       "  <tbody>\n",
       "    <tr>\n",
       "      <th>0</th>\n",
       "      <td>                    DM_4crsol_c</td>\n",
       "      <td> 0.12</td>\n",
       "    </tr>\n",
       "    <tr>\n",
       "      <th>1</th>\n",
       "      <td>                     DM_5drib_c</td>\n",
       "      <td> 0.12</td>\n",
       "    </tr>\n",
       "    <tr>\n",
       "      <th>2</th>\n",
       "      <td>                      DM_amob_c</td>\n",
       "      <td> 0.12</td>\n",
       "    </tr>\n",
       "    <tr>\n",
       "      <th>3</th>\n",
       "      <td>                    DM_mththf_c</td>\n",
       "      <td> 0.12</td>\n",
       "    </tr>\n",
       "    <tr>\n",
       "      <th>4</th>\n",
       "      <td>                      DM_oxam_c</td>\n",
       "      <td> 0.11</td>\n",
       "    </tr>\n",
       "    <tr>\n",
       "      <th>5</th>\n",
       "      <td>   BIOMASS_Ec_iJO1366_WT_53p95M</td>\n",
       "      <td> 0.12</td>\n",
       "    </tr>\n",
       "    <tr>\n",
       "      <th>6</th>\n",
       "      <td> BIOMASS_Ec_iJO1366_core_53p95M</td>\n",
       "      <td> 0.04</td>\n",
       "    </tr>\n",
       "    <tr>\n",
       "      <th>7</th>\n",
       "      <td>                  EX_12ppd__R_e</td>\n",
       "      <td> 0.11</td>\n",
       "    </tr>\n",
       "    <tr>\n",
       "      <th>8</th>\n",
       "      <td>                  EX_12ppd__S_e</td>\n",
       "      <td> 0.12</td>\n",
       "    </tr>\n",
       "    <tr>\n",
       "      <th>9</th>\n",
       "      <td>                     EX_15dap_e</td>\n",
       "      <td> 0.12</td>\n",
       "    </tr>\n",
       "  </tbody>\n",
       "</table>\n",
       "<p>10 rows × 2 columns</p>\n",
       "</div>"
      ],
      "text/plain": [
       "                         reaction  z_score\n",
       "0                     DM_4crsol_c     0.12\n",
       "1                      DM_5drib_c     0.12\n",
       "2                       DM_amob_c     0.12\n",
       "3                     DM_mththf_c     0.12\n",
       "4                       DM_oxam_c     0.11\n",
       "5    BIOMASS_Ec_iJO1366_WT_53p95M     0.12\n",
       "6  BIOMASS_Ec_iJO1366_core_53p95M     0.04\n",
       "7                   EX_12ppd__R_e     0.11\n",
       "8                   EX_12ppd__S_e     0.12\n",
       "9                      EX_15dap_e     0.12\n",
       "\n",
       "[10 rows x 2 columns]"
      ]
     },
     "execution_count": 117,
     "metadata": {},
     "output_type": "execute_result"
    }
   ],
   "source": [
    "DF_reaction_zscore_p1['25%glc_10%YE'][0:10]"
   ]
  },
  {
   "cell_type": "code",
   "execution_count": 118,
   "metadata": {
    "collapsed": false
   },
   "outputs": [],
   "source": [
    "for strain in DF_reaction_zscore_p1.keys():\n",
    "    file1 = '%s_p1_reaction_zscore.csv'%strain\n",
    "    file2 = '%s_p2_reaction_zscore.csv'%strain\n",
    "    file3 = '%s_p3_reaction_zscore.csv'%strain\n",
    "    DF_reaction_zscore_p1[strain].to_csv(file1)\n",
    "    DF_reaction_zscore_p2[strain].to_csv(file2)\n",
    "    DF_reaction_zscore_p3[strain].to_csv(file3)\n"
   ]
  },
  {
   "cell_type": "code",
   "execution_count": 121,
   "metadata": {
    "collapsed": false
   },
   "outputs": [
    {
     "name": "stdout",
     "output_type": "stream",
     "text": [
      "strain: 25%glc_10%YE\n",
      "strain: 50%glc\n"
     ]
    }
   ],
   "source": [
    "# Compute met Z scores\n",
    "DF_metabolite_zscore_p1 = {}\n",
    "DF_metabolite_zscore_p2 = {}\n",
    "DF_metabolite_zscore_p3 = {}\n",
    "\n",
    "for strain in mcmc_reduced_dict_p1.keys():\n",
    "        print \"strain:\", strain\n",
    "        if strain == '50%glc':\n",
    "            continue\n",
    "\n",
    "        DF_metabolite_zscore_p1[strain] = get_met_zscore(mcmc_reduced_dict_p1['50%glc'],mcmc_reduced_dict_p1[strain],m,DF_reaction_zscore_p1,strain)\n",
    "        DF_metabolite_zscore_p2[strain] = get_met_zscore(mcmc_reduced_dict_p2['50%glc'],mcmc_reduced_dict_p2[strain],m,DF_reaction_zscore_p2,strain)\n",
    "        DF_metabolite_zscore_p3[strain] = get_met_zscore(mcmc_reduced_dict_p3['50%glc'],mcmc_reduced_dict_p3[strain],m,DF_reaction_zscore_p2,strain)\n",
    "        "
   ]
  },
  {
   "cell_type": "code",
   "execution_count": 122,
   "metadata": {
    "collapsed": false
   },
   "outputs": [
    {
     "data": {
      "text/html": [
       "<div style=\"max-height:1000px;max-width:1500px;overflow:auto;\">\n",
       "<table border=\"1\" class=\"dataframe\">\n",
       "  <thead>\n",
       "    <tr style=\"text-align: right;\">\n",
       "      <th></th>\n",
       "      <th>metabolite</th>\n",
       "      <th>num_rxns_involved</th>\n",
       "      <th>zscore</th>\n",
       "    </tr>\n",
       "  </thead>\n",
       "  <tbody>\n",
       "    <tr>\n",
       "      <th>0</th>\n",
       "      <td>   10fthf_c</td>\n",
       "      <td> 7</td>\n",
       "      <td> 0.15</td>\n",
       "    </tr>\n",
       "    <tr>\n",
       "      <th>1</th>\n",
       "      <td> 12dgr120_c</td>\n",
       "      <td> 3</td>\n",
       "      <td> 0.20</td>\n",
       "    </tr>\n",
       "    <tr>\n",
       "      <th>2</th>\n",
       "      <td> 12dgr140_c</td>\n",
       "      <td> 3</td>\n",
       "      <td> 0.20</td>\n",
       "    </tr>\n",
       "    <tr>\n",
       "      <th>3</th>\n",
       "      <td> 12dgr141_c</td>\n",
       "      <td> 3</td>\n",
       "      <td> 0.19</td>\n",
       "    </tr>\n",
       "    <tr>\n",
       "      <th>4</th>\n",
       "      <td> 12dgr160_c</td>\n",
       "      <td> 3</td>\n",
       "      <td> 0.19</td>\n",
       "    </tr>\n",
       "    <tr>\n",
       "      <th>5</th>\n",
       "      <td> 12dgr161_c</td>\n",
       "      <td> 3</td>\n",
       "      <td> 0.22</td>\n",
       "    </tr>\n",
       "    <tr>\n",
       "      <th>6</th>\n",
       "      <td> 12dgr180_c</td>\n",
       "      <td> 3</td>\n",
       "      <td> 0.22</td>\n",
       "    </tr>\n",
       "    <tr>\n",
       "      <th>7</th>\n",
       "      <td> 12dgr181_c</td>\n",
       "      <td> 3</td>\n",
       "      <td> 0.20</td>\n",
       "    </tr>\n",
       "    <tr>\n",
       "      <th>8</th>\n",
       "      <td> 12ppd__R_c</td>\n",
       "      <td> 3</td>\n",
       "      <td> 0.09</td>\n",
       "    </tr>\n",
       "    <tr>\n",
       "      <th>9</th>\n",
       "      <td> 12ppd__S_c</td>\n",
       "      <td> 2</td>\n",
       "      <td> 0.14</td>\n",
       "    </tr>\n",
       "  </tbody>\n",
       "</table>\n",
       "<p>10 rows × 3 columns</p>\n",
       "</div>"
      ],
      "text/plain": [
       "   metabolite  num_rxns_involved  zscore\n",
       "0    10fthf_c                  7    0.15\n",
       "1  12dgr120_c                  3    0.20\n",
       "2  12dgr140_c                  3    0.20\n",
       "3  12dgr141_c                  3    0.19\n",
       "4  12dgr160_c                  3    0.19\n",
       "5  12dgr161_c                  3    0.22\n",
       "6  12dgr180_c                  3    0.22\n",
       "7  12dgr181_c                  3    0.20\n",
       "8  12ppd__R_c                  3    0.09\n",
       "9  12ppd__S_c                  2    0.14\n",
       "\n",
       "[10 rows x 3 columns]"
      ]
     },
     "execution_count": 122,
     "metadata": {},
     "output_type": "execute_result"
    }
   ],
   "source": [
    "DF_metabolite_zscore_p1['25%glc_10%YE'][0:10]"
   ]
  },
  {
   "cell_type": "code",
   "execution_count": 123,
   "metadata": {
    "collapsed": false
   },
   "outputs": [
    {
     "data": {
      "text/plain": [
       "['25%glc_10%YE']"
      ]
     },
     "execution_count": 123,
     "metadata": {},
     "output_type": "execute_result"
    }
   ],
   "source": [
    "DF_metabolite_zscore_p2.keys()"
   ]
  },
  {
   "cell_type": "code",
   "execution_count": 124,
   "metadata": {
    "collapsed": true
   },
   "outputs": [],
   "source": [
    "for strain in DF_metabolite_zscore_p1.keys():\n",
    "    file1 = '%s_p1_metabolite_zscore.csv'%strain\n",
    "    file2 = '%s_p2_metabolite_zscore.csv'%strain\n",
    "    file3 = '%s_p3_metabolite_zscore.csv'%strain\n",
    "    DF_metabolite_zscore_p1[strain].to_csv(file1)\n",
    "    DF_metabolite_zscore_p2[strain].to_csv(file2)\n",
    "    DF_metabolite_zscore_p3[strain].to_csv(file3)\n"
   ]
  },
  {
   "cell_type": "code",
   "execution_count": 130,
   "metadata": {
    "collapsed": false
   },
   "outputs": [
    {
     "data": {
      "image/png": "[encoded data removed]",
      "text/plain": [
       "<matplotlib.figure.Figure at 0x7f656fedead0>"
      ]
     },
     "metadata": {},
     "output_type": "display_data"
    }
   ],
   "source": [
    "metabolites_to_omit=['mqn8_c','2dmmq8_c','nh4_c','na1_c','zn2_c','ni2_c','q8_c','o2_c','h2o_c','pi_c','nadh_c','nad_c','nadph_c','nadp_c','atp_c','adp_c','amp_c','h_c','coa_c','co2_c','q8h2_c','cobalt2_c','cd2_c']\n",
    "    \n",
    "name_graph = 'metabolite_zscores_all_strains'\n",
    "    \n",
    "fig, axes = plt.subplots(nrows=1, ncols=3)  # change for adding in bis\n",
    "\n",
    "c1, c2, c3, c4, c5, c6, c7, c8 = sns.color_palette(\"Set2\", 8)\n",
    "\n",
    "strain = \"25%glc_10%YE\"\n",
    "df =  DF_metabolite_zscore_p1[strain][~DF_metabolite_zscore_p1[strain].metabolite.isin(metabolites_to_omit)][DF_metabolite_zscore_p1[strain].metabolite.str.contains('_c')][DF_metabolite_zscore_p1[strain].zscore >1.74]\n",
    "    \n",
    "df.zscore.plot(ax=axes[0], kind='barh', color=c1, title=strain + \" phase 1\",alpha=0.5,figsize=(5, 8))\n",
    "axes[0].axis('off')\n",
    "\n",
    "for i, x in enumerate(df.metabolite):\n",
    "        axes[0].text(-0.25, i + .5, x, ha='right', fontsize='large')\n",
    "\n",
    "\n",
    "df =  DF_metabolite_zscore_p2[strain][~DF_metabolite_zscore_p2[strain].metabolite.isin(metabolites_to_omit)][DF_metabolite_zscore_p2[strain].metabolite.str.contains('_c')][DF_metabolite_zscore_p2[strain].zscore >1.74]\n",
    "    \n",
    "df.zscore.plot(ax=axes[1], kind='barh', color=c2, title=strain + \" phase 2\",alpha=0.5,figsize=(5, 8))\n",
    "axes[1].axis('off')\n",
    "\n",
    "for i, x in enumerate(df.metabolite):\n",
    "        axes[1].text(-0.25, i + .5, x, ha='right', fontsize='large')\n",
    "\n",
    "df =  DF_metabolite_zscore_p3[strain][~DF_metabolite_zscore_p3[strain].metabolite.isin(metabolites_to_omit)][DF_metabolite_zscore_p3[strain].metabolite.str.contains('_c')][DF_metabolite_zscore_p3[strain].zscore >1.74]\n",
    "    \n",
    "df.zscore.plot(ax=axes[2], kind='barh', color=c3, title=strain + \" phase 3\",alpha=0.5,figsize=(5, 8))\n",
    "axes[2].axis('off')\n",
    "\n",
    "for i, x in enumerate(df.metabolite):\n",
    "        axes[2].text(-0.25, i + .5, x, ha='right', fontsize='large')\n",
    "\n",
    "####\n",
    "\n",
    "fig.tight_layout()\n",
    "\n",
    "fig = plt.gcf()\n",
    "fig.set_figwidth(12)\n",
    "fig.set_figheight(4)"
   ]
  },
  {
   "cell_type": "code",
   "execution_count": 131,
   "metadata": {
    "collapsed": true
   },
   "outputs": [],
   "source": [
    "fig.savefig('%s.pdf'%str(name_graph),dpi=600,format='PDF')\n",
    "fig.savefig('%s.png'%str(name_graph),dpi=300,format='PNG')"
   ]
  },
  {
   "cell_type": "code",
   "execution_count": 170,
   "metadata": {
    "collapsed": false
   },
   "outputs": [
    {
     "data": {
      "image/png": "[encoded data removed]",
      "text/plain": [
       "<matplotlib.figure.Figure at 0x7f657031bd90>"
      ]
     },
     "metadata": {},
     "output_type": "display_data"
    }
   ],
   "source": [
    "name_graph = 'reaction_zscores_all_strains'\n",
    "    \n",
    "fig, axes = plt.subplots(nrows=1, ncols=3)  # change for adding in bis\n",
    "\n",
    "c1, c2, c3, c4, c5, c6, c7, c8 = sns.color_palette(\"Set2\", 8)\n",
    "\n",
    "strain = \"25%glc_10%YE\"\n",
    "df = DF_reaction_zscore_p1[strain][~DF_reaction_zscore_p1[strain].reaction.str.contains('ex')][~DF_reaction_zscore_p1[strain].reaction.str.contains('EX')][~DF_reaction_zscore_p1[strain].reaction.str.contains('pp')][DF_reaction_zscore_p1[strain].z_score > 1.74]\n",
    "\n",
    "df.z_score.plot(ax=axes[0], kind='barh', color=c1, title=strain + \" phase 1\",alpha=0.5,figsize=(5, 7))\n",
    "axes[0].axis('off')\n",
    "\n",
    "for i, x in enumerate(df.reaction):\n",
    "        axes[0].text(-0.25, i + .5, x, ha='right', fontsize='large')\n",
    "\n",
    "df = DF_reaction_zscore_p2[strain][~DF_reaction_zscore_p2[strain].reaction.str.contains('ex')][~DF_reaction_zscore_p2[strain].reaction.str.contains('EX')][~DF_reaction_zscore_p2[strain].reaction.str.contains('pp')][DF_reaction_zscore_p2[strain].z_score > 1.74]\n",
    "\n",
    "df.z_score.plot(ax=axes[1], kind='barh', color=c1, title=strain + \" phase 2\",alpha=0.5,figsize=(5, 7))\n",
    "axes[1].axis('off')\n",
    "\n",
    "for i, x in enumerate(df.reaction):\n",
    "        axes[1].text(-0.25, i + .5, x, ha='right', fontsize='large')\n",
    "\n",
    "df = DF_reaction_zscore_p3[strain][~DF_reaction_zscore_p3[strain].reaction.str.contains('ex')][~DF_reaction_zscore_p3[strain].reaction.str.contains('EX')][~DF_reaction_zscore_p3[strain].reaction.str.contains('pp')][DF_reaction_zscore_p3[strain].z_score > 1.74]\n",
    "\n",
    "df.z_score.plot(ax=axes[2], kind='barh', color=c1, title=strain + \" phase 3\",alpha=0.5,figsize=(5, 7))\n",
    "axes[2].axis('off')\n",
    "\n",
    "for i, x in enumerate(df.reaction):\n",
    "        axes[2].text(-0.25, i + .5, x, ha='right', fontsize='large')\n",
    "\n",
    "####\n",
    "\n",
    "\n",
    "fig.tight_layout()\n",
    "\n",
    "fig = plt.gcf()\n",
    "fig.set_figwidth(12)\n",
    "fig.set_figheight(4)"
   ]
  },
  {
   "cell_type": "code",
   "execution_count": 85,
   "metadata": {
    "collapsed": true
   },
   "outputs": [],
   "source": [
    "fig.savefig('%s.pdf'%str(),dpi=600,format='PDF')\n",
    "fig.savefig('%s.png'%str(name_graph),dpi=300,format='PNG')\n"
   ]
  },
  {
   "cell_type": "code",
   "execution_count": 139,
   "metadata": {
    "collapsed": false
   },
   "outputs": [
    {
     "name": "stdout",
     "output_type": "stream",
     "text": [
      "Unassigned: ATPM\n",
      "Citric Acid Cycle: FRD3\n",
      "Oxidative Phosphorylation: SUCDi\n"
     ]
    }
   ],
   "source": [
    "for i, x in enumerate(df.reaction):\n",
    "    print m.reactions.get_by_id(x).subsystem + \": \" + x\n",
    "\n",
    "\n",
    "\n",
    "\n"
   ]
  },
  {
   "cell_type": "code",
   "execution_count": 143,
   "metadata": {
    "collapsed": false
   },
   "outputs": [
    {
     "data": {
      "text/plain": [
       "<matplotlib.axes.AxesSubplot at 0x7f6581684790>"
      ]
     },
     "execution_count": 143,
     "metadata": {},
     "output_type": "execute_result"
    },
    {
     "data": {
      "image/png": "[encoded data removed]",
      "text/plain": [
       "<matplotlib.figure.Figure at 0x7f656f7d57d0>"
      ]
     },
     "metadata": {},
     "output_type": "display_data"
    }
   ],
   "source": [
    "react = 'SUCDi'\n",
    "\n",
    "mcmc_reduced_dict_p2['50%glc'][react].plot(kind='density')\n",
    "mcmc_reduced_dict_p2['25%glc_10%YE'][react].plot(kind='density')\n"
   ]
  },
  {
   "cell_type": "code",
   "execution_count": 144,
   "metadata": {
    "collapsed": false
   },
   "outputs": [
    {
     "data": {
      "text/plain": [
       "<matplotlib.axes.AxesSubplot at 0x7f657fd1fa50>"
      ]
     },
     "execution_count": 144,
     "metadata": {},
     "output_type": "execute_result"
    },
    {
     "data": {
      "image/png": "[encoded data removed]",
      "text/plain": [
       "<matplotlib.figure.Figure at 0x7f656f7d5750>"
      ]
     },
     "metadata": {},
     "output_type": "display_data"
    }
   ],
   "source": [
    "react = 'FRD3'\n",
    "\n",
    "mcmc_reduced_dict_p2['50%glc'][react].plot(kind='density')\n",
    "mcmc_reduced_dict_p2['25%glc_10%YE'][react].plot(kind='density')\n"
   ]
  },
  {
   "cell_type": "code",
   "execution_count": 147,
   "metadata": {
    "collapsed": false
   },
   "outputs": [
    {
     "name": "stdout",
     "output_type": "stream",
     "text": [
      "Fumarate reductase\n"
     ]
    },
    {
     "data": {
      "image/png": "[encoded data removed]",
      "text/plain": [
       "<matplotlib.figure.Figure at 0x7f6581fc7450>"
      ]
     },
     "metadata": {},
     "output_type": "display_data"
    }
   ],
   "source": [
    "react = 'FRD3'\n",
    "print m.reactions.get_by_id(react).name\n",
    "#plot_rxn_shifts(strain,df, df2, df3, react, 0.1, -0.01, 8)\n",
    "plot_rxn_shifts_all_strains(mcmc_reduced_dict_p1, mcmc_reduced_dict_p2,mcmc_reduced_dict_p3, react, -1, 8, 1)\n"
   ]
  },
  {
   "cell_type": "code",
   "execution_count": 148,
   "metadata": {
    "collapsed": false
   },
   "outputs": [],
   "source": [
    "fig.savefig('%s.pdf'%str(react),dpi=600,format='PDF')\n",
    "fig.savefig('%s.png'%str(react),dpi=300,format='PNG')"
   ]
  },
  {
   "cell_type": "code",
   "execution_count": 151,
   "metadata": {
    "collapsed": false
   },
   "outputs": [
    {
     "name": "stdout",
     "output_type": "stream",
     "text": [
      "Succinate dehydrogenase (irreversible)\n"
     ]
    },
    {
     "data": {
      "image/png": "[encoded data removed]",
      "text/plain": [
       "<matplotlib.figure.Figure at 0x7f6580de2450>"
      ]
     },
     "metadata": {},
     "output_type": "display_data"
    }
   ],
   "source": [
    "react = 'SUCDi'\n",
    "print m.reactions.get_by_id(react).name\n",
    "#plot_rxn_shifts(strain,df, df2, df3, react, 0.1, -0.01, 8)\n",
    "plot_rxn_shifts_all_strains(mcmc_reduced_dict_p1, mcmc_reduced_dict_p2,mcmc_reduced_dict_p3, react, -1, 10, 1.2)\n"
   ]
  },
  {
   "cell_type": "code",
   "execution_count": 152,
   "metadata": {
    "collapsed": true
   },
   "outputs": [],
   "source": [
    "fig.savefig('%s.pdf'%str(react),dpi=600,format='PDF')\n",
    "fig.savefig('%s.png'%str(react),dpi=300,format='PNG')"
   ]
  },
  {
   "cell_type": "code",
   "execution_count": 168,
   "metadata": {
    "collapsed": false
   },
   "outputs": [
    {
     "name": "stdout",
     "output_type": "stream",
     "text": [
      "6-phosphogluconolactonase\n"
     ]
    },
    {
     "data": {
      "image/png": "[encoded data removed]",
      "text/plain": [
       "<matplotlib.figure.Figure at 0x7f65816ba210>"
      ]
     },
     "metadata": {},
     "output_type": "display_data"
    }
   ],
   "source": [
    "react = 'PGL'\n",
    "print m.reactions.get_by_id(react).name\n",
    "#plot_rxn_shifts(strain,df, df2, df3, react, 0.1, -0.01, 8)\n",
    "plot_rxn_shifts_all_strains(mcmc_reduced_dict_p1, mcmc_reduced_dict_p2,mcmc_reduced_dict_p3, react, -0.5, 2, 12)\n"
   ]
  },
  {
   "cell_type": "code",
   "execution_count": 169,
   "metadata": {
    "collapsed": true
   },
   "outputs": [],
   "source": [
    "fig.savefig('%s.pdf'%str(react),dpi=600,format='PDF')\n",
    "fig.savefig('%s.png'%str(react),dpi=300,format='PNG')"
   ]
  },
  {
   "cell_type": "code",
   "execution_count": null,
   "metadata": {
    "collapsed": true
   },
   "outputs": [],
   "source": []
  }
 ],
 "metadata": {
  "kernelspec": {
   "display_name": "Python 2",
   "language": "python",
   "name": "python2"
  },
  "language_info": {
   "codemirror_mode": {
    "name": "ipython",
    "version": 2
   },
   "file_extension": ".py",
   "mimetype": "text/x-python",
   "name": "python",
   "nbconvert_exporter": "python",
   "pygments_lexer": "ipython2",
   "version": "2.7.6"
  }
 },
 "nbformat": 4,
 "nbformat_minor": 0
}
